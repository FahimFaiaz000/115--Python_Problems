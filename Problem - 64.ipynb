{
 "cells": [
  {
   "cell_type": "markdown",
   "id": "e62549f1",
   "metadata": {},
   "source": [
    "# Given a list of nested lists, write a Python program to concatenate all the sublists into a single flat list."
   ]
  },
  {
   "cell_type": "code",
   "execution_count": 2,
   "id": "c05b525a",
   "metadata": {},
   "outputs": [
    {
     "name": "stdout",
     "output_type": "stream",
     "text": [
      "Enter a list of nested lists: [[1, 2], [3, 4]]\n",
      "Flattened list: [1, 2, 3, 4]\n"
     ]
    }
   ],
   "source": [
    "nested_lists = eval(input(\"Enter a list of nested lists: \"))\n",
    "\n",
    "flat_list = [item for sublist in nested_lists for item in sublist]\n",
    "\n",
    "print(\"Flattened list:\", flat_list)"
   ]
  }
 ],
 "metadata": {
  "kernelspec": {
   "display_name": "Python 3 (ipykernel)",
   "language": "python",
   "name": "python3"
  },
  "language_info": {
   "codemirror_mode": {
    "name": "ipython",
    "version": 3
   },
   "file_extension": ".py",
   "mimetype": "text/x-python",
   "name": "python",
   "nbconvert_exporter": "python",
   "pygments_lexer": "ipython3",
   "version": "3.9.13"
  }
 },
 "nbformat": 4,
 "nbformat_minor": 5
}
