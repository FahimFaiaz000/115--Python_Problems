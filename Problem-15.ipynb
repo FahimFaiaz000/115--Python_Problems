{
 "cells": [
  {
   "cell_type": "markdown",
   "id": "86bb35c7",
   "metadata": {},
   "source": [
    "# Write a Python program that takes a single character as input and determines whether it is a vowel or a consonant."
   ]
  },
  {
   "cell_type": "code",
   "execution_count": 3,
   "id": "6d49d396",
   "metadata": {},
   "outputs": [
    {
     "name": "stdout",
     "output_type": "stream",
     "text": [
      "Enter the alphabet: I\n",
      "This is a vowel.\n"
     ]
    }
   ],
   "source": [
    "alp = input(\"Enter the alphabet: \")\n",
    "if(alp=='a' or alp=='e' or alp=='i' or alp=='o' or alp=='u' or alp=='A' or alp=='E' or alp=='I' or alp=='O' or alp=='U'):\n",
    "    print(\"This is a vowel.\")\n",
    "else:\n",
    "    print(\"This is a consonant.\")"
   ]
  }
 ],
 "metadata": {
  "kernelspec": {
   "display_name": "Python 3 (ipykernel)",
   "language": "python",
   "name": "python3"
  },
  "language_info": {
   "codemirror_mode": {
    "name": "ipython",
    "version": 3
   },
   "file_extension": ".py",
   "mimetype": "text/x-python",
   "name": "python",
   "nbconvert_exporter": "python",
   "pygments_lexer": "ipython3",
   "version": "3.9.13"
  }
 },
 "nbformat": 4,
 "nbformat_minor": 5
}
