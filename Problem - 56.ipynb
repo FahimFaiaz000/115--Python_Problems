{
 "cells": [
  {
   "cell_type": "markdown",
   "id": "a59109df",
   "metadata": {},
   "source": [
    "# Given two tuples of integers, write a Python program to perform element-wise addition, subtraction, and multiplication and create new tuples for each operation.\n",
    "\n"
   ]
  },
  {
   "cell_type": "code",
   "execution_count": 1,
   "id": "23cc118f",
   "metadata": {},
   "outputs": [
    {
     "name": "stdout",
     "output_type": "stream",
     "text": [
      "Element-wise addition result: (7, 9, 11, 13, 15)\n",
      "Element-wise subtraction result: (-5, -5, -5, -5, -5)\n",
      "Element-wise multiplication result: (6, 14, 24, 36, 50)\n"
     ]
    }
   ],
   "source": [
    "tuple1 = (1, 2, 3, 4, 5)\n",
    "tuple2 = (6, 7, 8, 9, 10)\n",
    "addition_result = tuple(x + y for x, y in zip(tuple1, tuple2))\n",
    "subtraction_result = tuple(x - y for x, y in zip(tuple1, tuple2))\n",
    "multiplication_result = tuple(x * y for x, y in zip(tuple1, tuple2))\n",
    "\n",
    "print(\"Element-wise addition result:\", addition_result)\n",
    "print(\"Element-wise subtraction result:\", subtraction_result)\n",
    "print(\"Element-wise multiplication result:\", multiplication_result)"
   ]
  }
 ],
 "metadata": {
  "kernelspec": {
   "display_name": "Python 3 (ipykernel)",
   "language": "python",
   "name": "python3"
  },
  "language_info": {
   "codemirror_mode": {
    "name": "ipython",
    "version": 3
   },
   "file_extension": ".py",
   "mimetype": "text/x-python",
   "name": "python",
   "nbconvert_exporter": "python",
   "pygments_lexer": "ipython3",
   "version": "3.9.13"
  }
 },
 "nbformat": 4,
 "nbformat_minor": 5
}
