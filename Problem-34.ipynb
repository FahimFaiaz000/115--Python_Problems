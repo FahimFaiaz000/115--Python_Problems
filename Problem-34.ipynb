{
 "cells": [
  {
   "cell_type": "markdown",
   "id": "6bff6334",
   "metadata": {},
   "source": [
    "# Write a Python program to find the sum of all elements in a given list of integers."
   ]
  },
  {
   "cell_type": "code",
   "execution_count": 2,
   "id": "8a548f56",
   "metadata": {},
   "outputs": [
    {
     "name": "stdout",
     "output_type": "stream",
     "text": [
      "Enter a list of integers separated by spaces: 4 5 6 3 7\n",
      "The sum of the elements in the list is: 25\n"
     ]
    }
   ],
   "source": [
    "num_list = input(\"Enter a list of integers separated by spaces: \").split()\n",
    "num_list = [int(x) for x in num_list]\n",
    "\n",
    "sum_all = 0\n",
    "\n",
    "for num in num_list:\n",
    "    sum_all += num\n",
    "\n",
    "print(f\"The sum of the elements in the list is: {sum_all}\")"
   ]
  }
 ],
 "metadata": {
  "kernelspec": {
   "display_name": "Python 3 (ipykernel)",
   "language": "python",
   "name": "python3"
  },
  "language_info": {
   "codemirror_mode": {
    "name": "ipython",
    "version": 3
   },
   "file_extension": ".py",
   "mimetype": "text/x-python",
   "name": "python",
   "nbconvert_exporter": "python",
   "pygments_lexer": "ipython3",
   "version": "3.9.13"
  }
 },
 "nbformat": 4,
 "nbformat_minor": 5
}
