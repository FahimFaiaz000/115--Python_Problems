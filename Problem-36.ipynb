{
 "cells": [
  {
   "cell_type": "markdown",
   "id": "60447824",
   "metadata": {},
   "source": [
    "# Write a Python program to find the maximum and minimum values in a given list of integers."
   ]
  },
  {
   "cell_type": "code",
   "execution_count": 3,
   "id": "7b9e0616",
   "metadata": {},
   "outputs": [
    {
     "name": "stdout",
     "output_type": "stream",
     "text": [
      "Enter a list of integers: 5 4 6 7 9 \n",
      "The maximum value is: 9 & the minimum is: 4\n"
     ]
    }
   ],
   "source": [
    "num_list = input(\"Enter a list of integers: \").split()\n",
    "num_list = [int(x) for x in num_list]\n",
    "\n",
    "print(f\"The maximum value is: {max(num_list)} & the minimum is: {min(num_list)}\")"
   ]
  }
 ],
 "metadata": {
  "kernelspec": {
   "display_name": "Python 3 (ipykernel)",
   "language": "python",
   "name": "python3"
  },
  "language_info": {
   "codemirror_mode": {
    "name": "ipython",
    "version": 3
   },
   "file_extension": ".py",
   "mimetype": "text/x-python",
   "name": "python",
   "nbconvert_exporter": "python",
   "pygments_lexer": "ipython3",
   "version": "3.9.13"
  }
 },
 "nbformat": 4,
 "nbformat_minor": 5
}
