{
 "cells": [
  {
   "cell_type": "markdown",
   "id": "10596555",
   "metadata": {},
   "source": [
    "# Write a Python program to search for a specific element in a nested list and return its position (row and column indices)."
   ]
  },
  {
   "cell_type": "code",
   "execution_count": 3,
   "id": "c534a2dc",
   "metadata": {},
   "outputs": [
    {
     "name": "stdout",
     "output_type": "stream",
     "text": [
      "Enter the element to search for: 8\n",
      "Element 8 found at position (2, 1).\n"
     ]
    }
   ],
   "source": [
    "nested_list = [\n",
    "    [1, 2, 3],\n",
    "    [4, 5, 6],\n",
    "    [7, 8, 9]\n",
    "]\n",
    "\n",
    "element_to_search = int(input(\"Enter the element to search for: \"))\n",
    "\n",
    "row_index = -1\n",
    "col_index = -1\n",
    "\n",
    "for i in range(len(nested_list)):\n",
    "    for j in range(len(nested_list[i])):\n",
    "        if nested_list[i][j] == element_to_search:\n",
    "            row_index = i\n",
    "            col_index = j\n",
    "            break\n",
    "\n",
    "if row_index != -1 and col_index != -1:\n",
    "    print(f\"Element {element_to_search} found at position ({row_index}, {col_index}).\")\n",
    "else:\n",
    "    print(f\"Element {element_to_search} not found in the nested list.\")"
   ]
  }
 ],
 "metadata": {
  "kernelspec": {
   "display_name": "Python 3 (ipykernel)",
   "language": "python",
   "name": "python3"
  },
  "language_info": {
   "codemirror_mode": {
    "name": "ipython",
    "version": 3
   },
   "file_extension": ".py",
   "mimetype": "text/x-python",
   "name": "python",
   "nbconvert_exporter": "python",
   "pygments_lexer": "ipython3",
   "version": "3.9.13"
  }
 },
 "nbformat": 4,
 "nbformat_minor": 5
}
