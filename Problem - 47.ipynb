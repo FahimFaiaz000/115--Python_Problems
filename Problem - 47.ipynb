{
 "cells": [
  {
   "cell_type": "code",
   "execution_count": 1,
   "id": "d69a33a1",
   "metadata": {},
   "outputs": [
    {
     "name": "stdout",
     "output_type": "stream",
     "text": [
      "Enter the number of rows: 2\n",
      "Enter the number of columns: 3\n",
      "Enter the value for element [1][1]: 5\n",
      "Enter the value for element [2][2]: 7\n",
      "Enter the value for element [3][3]: 4\n",
      "Enter the value for element [1][1]: 2\n",
      "Enter the value for element [2][2]: 8\n",
      "Enter the value for element [3][3]: 6\n",
      "\n",
      "Original Matrix:\n",
      "[5.0, 7.0, 4.0]\n",
      "[2.0, 8.0, 6.0]\n",
      "\n",
      "Transposed Matrix:\n",
      "[5.0, 2.0]\n",
      "[7.0, 8.0]\n",
      "[4.0, 6.0]\n"
     ]
    }
   ],
   "source": [
    "rows = int(input(\"Enter the number of rows: \"))\n",
    "cols = int(input(\"Enter the number of columns: \"))\n",
    "\n",
    "matrix = []\n",
    "for _ in range(rows):\n",
    "    row = []\n",
    "    for _ in range(cols):\n",
    "        value = float(input(f\"Enter the value for element [{_ + 1}][{_ + 1}]: \"))\n",
    "        row.append(value)\n",
    "    matrix.append(row)\n",
    "\n",
    "transpose_matrix = [[0 for _ in range(rows)] for _ in range(cols)]\n",
    "for i in range(rows):\n",
    "    for j in range(cols):\n",
    "        transpose_matrix[j][i] = matrix[i][j]\n",
    "\n",
    "print(\"\\nOriginal Matrix:\")\n",
    "for row in matrix:\n",
    "    print(row)\n",
    "\n",
    "print(\"\\nTransposed Matrix:\")\n",
    "for row in transpose_matrix:\n",
    "    print(row)"
   ]
  }
 ],
 "metadata": {
  "kernelspec": {
   "display_name": "Python 3 (ipykernel)",
   "language": "python",
   "name": "python3"
  },
  "language_info": {
   "codemirror_mode": {
    "name": "ipython",
    "version": 3
   },
   "file_extension": ".py",
   "mimetype": "text/x-python",
   "name": "python",
   "nbconvert_exporter": "python",
   "pygments_lexer": "ipython3",
   "version": "3.9.13"
  }
 },
 "nbformat": 4,
 "nbformat_minor": 5
}
