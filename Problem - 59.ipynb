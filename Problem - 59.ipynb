{
 "cells": [
  {
   "cell_type": "markdown",
   "id": "e316098b",
   "metadata": {},
   "source": [
    "# Given a nested list, write a Python program to access and print specific elements from it."
   ]
  },
  {
   "cell_type": "code",
   "execution_count": 2,
   "id": "959669a9",
   "metadata": {},
   "outputs": [
    {
     "name": "stdout",
     "output_type": "stream",
     "text": [
      "Enter the row index: 2\n",
      "Enter the column index: 2\n",
      "The element at [2][2] is: 9\n"
     ]
    }
   ],
   "source": [
    "nested_list = [\n",
    "    [1, 2, 3],\n",
    "    [4, 5, 6],\n",
    "    [7, 8, 9]\n",
    "]\n",
    "\n",
    "row_index = int(input(\"Enter the row index: \"))\n",
    "column_index = int(input(\"Enter the column index: \"))\n",
    "\n",
    "if 0 <= row_index < len(nested_list) and 0 <= column_index < len(nested_list[0]):\n",
    "    element = nested_list[row_index][column_index]\n",
    "    print(f\"The element at [{row_index}][{column_index}] is: {element}\")\n",
    "else:\n",
    "    print(\"Invalid indices. Please enter valid indices within the bounds of the nested list.\")"
   ]
  }
 ],
 "metadata": {
  "kernelspec": {
   "display_name": "Python 3 (ipykernel)",
   "language": "python",
   "name": "python3"
  },
  "language_info": {
   "codemirror_mode": {
    "name": "ipython",
    "version": 3
   },
   "file_extension": ".py",
   "mimetype": "text/x-python",
   "name": "python",
   "nbconvert_exporter": "python",
   "pygments_lexer": "ipython3",
   "version": "3.9.13"
  }
 },
 "nbformat": 4,
 "nbformat_minor": 5
}
