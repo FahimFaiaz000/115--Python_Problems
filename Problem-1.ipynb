{
 "cells": [
  {
   "cell_type": "markdown",
   "id": "8305a550",
   "metadata": {},
   "source": [
    "# Write a Python program to swap the values of two variables without using a temporary variable."
   ]
  },
  {
   "cell_type": "code",
   "execution_count": 2,
   "id": "907563fa",
   "metadata": {},
   "outputs": [
    {
     "name": "stdout",
     "output_type": "stream",
     "text": [
      " 10\n",
      " 20\n",
      "Value of x: 20\n",
      "Value of y: 10\n"
     ]
    }
   ],
   "source": [
    "x = int(input(\" \"))\n",
    "y = int(input(\" \"))\n",
    "x = x+y\n",
    "y = x-y\n",
    "x = x-y\n",
    "print(\"Value of x:\", x)\n",
    "print(\"Value of y:\", y)"
   ]
  }
 ],
 "metadata": {
  "kernelspec": {
   "display_name": "Python 3 (ipykernel)",
   "language": "python",
   "name": "python3"
  },
  "language_info": {
   "codemirror_mode": {
    "name": "ipython",
    "version": 3
   },
   "file_extension": ".py",
   "mimetype": "text/x-python",
   "name": "python",
   "nbconvert_exporter": "python",
   "pygments_lexer": "ipython3",
   "version": "3.9.13"
  }
 },
 "nbformat": 4,
 "nbformat_minor": 5
}
