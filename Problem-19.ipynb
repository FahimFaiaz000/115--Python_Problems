{
 "cells": [
  {
   "cell_type": "markdown",
   "id": "e312271f",
   "metadata": {},
   "source": [
    "# Write a Python program that takes an integer as input and prints whether the number falls within the ranges: 0-50, 51-100, 101-150, or above 150."
   ]
  },
  {
   "cell_type": "code",
   "execution_count": 8,
   "id": "0b515605",
   "metadata": {},
   "outputs": [
    {
     "name": "stdout",
     "output_type": "stream",
     "text": [
      "Enter the number: 77\n",
      "The range of the number 51-100.\n"
     ]
    }
   ],
   "source": [
    "n = int(input(\"Enter the number: \"))\n",
    "if(n>=0 and n<=50):\n",
    "    print(\"The range of the number 0-50.\")\n",
    "elif(n>=51 and n<=100):\n",
    "    print(\"The range of the number 51-100.\")\n",
    "elif(n>=101 and n<=150):\n",
    "    print(\"The range of the number 101-150.\")\n",
    "else:\n",
    "    print(\"The number is above 150.\")"
   ]
  }
 ],
 "metadata": {
  "kernelspec": {
   "display_name": "Python 3 (ipykernel)",
   "language": "python",
   "name": "python3"
  },
  "language_info": {
   "codemirror_mode": {
    "name": "ipython",
    "version": 3
   },
   "file_extension": ".py",
   "mimetype": "text/x-python",
   "name": "python",
   "nbconvert_exporter": "python",
   "pygments_lexer": "ipython3",
   "version": "3.9.13"
  }
 },
 "nbformat": 4,
 "nbformat_minor": 5
}
