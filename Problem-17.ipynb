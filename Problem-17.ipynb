{
 "cells": [
  {
   "cell_type": "markdown",
   "id": "768b725d",
   "metadata": {},
   "source": [
    "# Write a Python program that takes three sides of a triangle as input and determines whether it forms an equilateral, isosceles, or scalene triangle."
   ]
  },
  {
   "cell_type": "code",
   "execution_count": 3,
   "id": "c0e96c5c",
   "metadata": {},
   "outputs": [
    {
     "name": "stdout",
     "output_type": "stream",
     "text": [
      "The first side of a triangle: 10\n",
      "The second side of a triangle: 15\n",
      "The third side of a triangle: 10\n",
      "This is an Isosceles triangle.\n"
     ]
    }
   ],
   "source": [
    "x = int(input(\"The first side of a triangle: \"))\n",
    "y = int(input(\"The second side of a triangle: \"))\n",
    "z = int(input(\"The third side of a triangle: \"))\n",
    "if (x == y == z):\n",
    "    print(\"This is an Equilateral triangle.\")\n",
    "elif (x==y or y==z or z==x):\n",
    "    print(\"This is an Isosceles triangle.\")\n",
    "else:\n",
    "    print(\"This is a Scalene triangle.\")"
   ]
  }
 ],
 "metadata": {
  "kernelspec": {
   "display_name": "Python 3 (ipykernel)",
   "language": "python",
   "name": "python3"
  },
  "language_info": {
   "codemirror_mode": {
    "name": "ipython",
    "version": 3
   },
   "file_extension": ".py",
   "mimetype": "text/x-python",
   "name": "python",
   "nbconvert_exporter": "python",
   "pygments_lexer": "ipython3",
   "version": "3.9.13"
  }
 },
 "nbformat": 4,
 "nbformat_minor": 5
}
