{
 "cells": [
  {
   "cell_type": "markdown",
   "id": "04c0cd18",
   "metadata": {},
   "source": [
    "# Tuple Frequency Count: Given a tuple containing various elements, write a Python program to count the frequency of a specific element in the tuple."
   ]
  },
  {
   "cell_type": "code",
   "execution_count": 1,
   "id": "2ef91401",
   "metadata": {},
   "outputs": [
    {
     "name": "stdout",
     "output_type": "stream",
     "text": [
      "Enter the element to count: apple\n",
      "The element 'apple' occurs 3 times in the tuple.\n"
     ]
    }
   ],
   "source": [
    "my_tuple = (1, 'apple', 2, 'banana', 3, 'apple', 4, 'cherry', 'apple')\n",
    "element_to_count = input(\"Enter the element to count: \")\n",
    "count = my_tuple.count(element_to_count)\n",
    "print(f\"The element '{element_to_count}' occurs {count} times in the tuple.\")"
   ]
  }
 ],
 "metadata": {
  "kernelspec": {
   "display_name": "Python 3 (ipykernel)",
   "language": "python",
   "name": "python3"
  },
  "language_info": {
   "codemirror_mode": {
    "name": "ipython",
    "version": 3
   },
   "file_extension": ".py",
   "mimetype": "text/x-python",
   "name": "python",
   "nbconvert_exporter": "python",
   "pygments_lexer": "ipython3",
   "version": "3.9.13"
  }
 },
 "nbformat": 4,
 "nbformat_minor": 5
}
