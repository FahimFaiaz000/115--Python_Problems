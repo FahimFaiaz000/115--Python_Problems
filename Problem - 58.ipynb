{
 "cells": [
  {
   "cell_type": "markdown",
   "id": "7e4ad07b",
   "metadata": {},
   "source": [
    "# Write a Python program to pack three variables into a single tuple and print the tuple."
   ]
  },
  {
   "cell_type": "code",
   "execution_count": 1,
   "id": "ab7ac5d0",
   "metadata": {},
   "outputs": [
    {
     "name": "stdout",
     "output_type": "stream",
     "text": [
      "Enter the first variable: 10\n",
      "Enter the second variable: 30\n",
      "Enter the third variable: 50\n",
      "Packed tuple: ('10', '30', '50')\n"
     ]
    }
   ],
   "source": [
    "var1 = input(\"Enter the first variable: \")\n",
    "var2 = input(\"Enter the second variable: \")\n",
    "var3 = input(\"Enter the third variable: \")\n",
    "\n",
    "packed_tuple = (var1, var2, var3)\n",
    "\n",
    "print(\"Packed tuple:\", packed_tuple)"
   ]
  }
 ],
 "metadata": {
  "kernelspec": {
   "display_name": "Python 3 (ipykernel)",
   "language": "python",
   "name": "python3"
  },
  "language_info": {
   "codemirror_mode": {
    "name": "ipython",
    "version": 3
   },
   "file_extension": ".py",
   "mimetype": "text/x-python",
   "name": "python",
   "nbconvert_exporter": "python",
   "pygments_lexer": "ipython3",
   "version": "3.9.13"
  }
 },
 "nbformat": 4,
 "nbformat_minor": 5
}
