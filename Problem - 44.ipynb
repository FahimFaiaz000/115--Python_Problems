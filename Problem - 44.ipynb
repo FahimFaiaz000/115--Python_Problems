{
 "cells": [
  {
   "cell_type": "markdown",
   "id": "0c11fe6e",
   "metadata": {},
   "source": [
    "# Write a Python program to add two matrices represented as nested lists."
   ]
  },
  {
   "cell_type": "code",
   "execution_count": 1,
   "id": "59fd2ccc",
   "metadata": {},
   "outputs": [
    {
     "name": "stdout",
     "output_type": "stream",
     "text": [
      "Enter the number of rows: 3\n",
      "Enter the number of columns: 3\n",
      "Enter values for matrix A:\n",
      "Enter the value for A[1][1]: 2\n",
      "Enter the value for A[1][2]: 4 \n",
      "Enter the value for A[1][3]: 5\n",
      "Enter the value for A[2][1]: 1 \n",
      "Enter the value for A[2][2]: 6\n",
      "Enter the value for A[2][3]: 7\n",
      "Enter the value for A[3][1]: 3 \n",
      "Enter the value for A[3][2]: 5\n",
      "Enter the value for A[3][3]: 1\n",
      "Enter values for matrix B:\n",
      "Enter the value for B[1][1]: 4\n",
      "Enter the value for B[1][2]: 7\n",
      "Enter the value for B[1][3]: 8\n",
      "Enter the value for B[2][1]: 4\n",
      "Enter the value for B[2][2]: 3\n",
      "Enter the value for B[2][3]: 6\n",
      "Enter the value for B[3][1]: 8\n",
      "Enter the value for B[3][2]: 3\n",
      "Enter the value for B[3][3]: 2\n",
      "\n",
      "Matrix A:\n",
      "[2.0, 4.0, 5.0]\n",
      "[1.0, 6.0, 7.0]\n",
      "[3.0, 5.0, 1.0]\n",
      "\n",
      "Matrix B:\n",
      "[4.0, 7.0, 8.0]\n",
      "[4.0, 3.0, 6.0]\n",
      "[8.0, 3.0, 2.0]\n",
      "\n",
      "Matrix C (A + B):\n",
      "[6.0, 11.0, 13.0]\n",
      "[5.0, 9.0, 13.0]\n",
      "[11.0, 8.0, 3.0]\n"
     ]
    }
   ],
   "source": [
    "rows = int(input(\"Enter the number of rows: \"))\n",
    "cols = int(input(\"Enter the number of columns: \"))\n",
    "\n",
    "matrix_A = []\n",
    "matrix_B = []\n",
    "\n",
    "print(\"Enter values for matrix A:\")\n",
    "for i in range(rows):\n",
    "    row = []\n",
    "    for j in range(cols):\n",
    "        value = float(input(f\"Enter the value for A[{i+1}][{j+1}]: \"))\n",
    "        row.append(value)\n",
    "    matrix_A.append(row)\n",
    "\n",
    "print(\"Enter values for matrix B:\")\n",
    "for i in range(rows):\n",
    "    row = []\n",
    "    for j in range(cols):\n",
    "        value = float(input(f\"Enter the value for B[{i+1}][{j+1}]: \"))\n",
    "        row.append(value)\n",
    "    matrix_B.append(row)\n",
    "\n",
    "matrix_C = [[0 for _ in range(cols)] for _ in range(rows)]\n",
    "for i in range(rows):\n",
    "    for j in range(cols):\n",
    "        matrix_C[i][j] = matrix_A[i][j] + matrix_B[i][j]\n",
    "\n",
    "print(\"\\nMatrix A:\")\n",
    "for row in matrix_A:\n",
    "    print(row)\n",
    "\n",
    "print(\"\\nMatrix B:\")\n",
    "for row in matrix_B:\n",
    "    print(row)\n",
    "\n",
    "print(\"\\nMatrix C (A + B):\")\n",
    "for row in matrix_C:\n",
    "    print(row)"
   ]
  }
 ],
 "metadata": {
  "kernelspec": {
   "display_name": "Python 3 (ipykernel)",
   "language": "python",
   "name": "python3"
  },
  "language_info": {
   "codemirror_mode": {
    "name": "ipython",
    "version": 3
   },
   "file_extension": ".py",
   "mimetype": "text/x-python",
   "name": "python",
   "nbconvert_exporter": "python",
   "pygments_lexer": "ipython3",
   "version": "3.9.13"
  }
 },
 "nbformat": 4,
 "nbformat_minor": 5
}
