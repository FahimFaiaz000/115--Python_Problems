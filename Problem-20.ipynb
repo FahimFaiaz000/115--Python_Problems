{
 "cells": [
  {
   "cell_type": "markdown",
   "id": "2933ad0c",
   "metadata": {},
   "source": [
    "# Write a Python program using a for loop to calculate the sum of the first N natural numbers, where N is taken as input from the user."
   ]
  },
  {
   "cell_type": "code",
   "execution_count": 5,
   "id": "df0b8ff5",
   "metadata": {},
   "outputs": [
    {
     "name": "stdout",
     "output_type": "stream",
     "text": [
      "Enter a positive number : 34\n",
      "The sum of the first 34 numbers is: 595\n"
     ]
    }
   ],
   "source": [
    "num = int(input(\"Enter a positive number : \"))\n",
    "\n",
    "sum_num = 0\n",
    "\n",
    "for i in range(1, num + 1):\n",
    "    sum_num = sum_num + i\n",
    "\n",
    "print(f\"The sum of the first {num} numbers is: {sum_num}\")"
   ]
  }
 ],
 "metadata": {
  "kernelspec": {
   "display_name": "Python 3 (ipykernel)",
   "language": "python",
   "name": "python3"
  },
  "language_info": {
   "codemirror_mode": {
    "name": "ipython",
    "version": 3
   },
   "file_extension": ".py",
   "mimetype": "text/x-python",
   "name": "python",
   "nbconvert_exporter": "python",
   "pygments_lexer": "ipython3",
   "version": "3.9.13"
  }
 },
 "nbformat": 4,
 "nbformat_minor": 5
}
