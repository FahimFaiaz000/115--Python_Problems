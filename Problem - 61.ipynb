{
 "cells": [
  {
   "cell_type": "markdown",
   "id": "a7c77a68",
   "metadata": {},
   "source": [
    "# Given a nested list containing lists of integers, write a Python program to sort the sublists based on their lengths."
   ]
  },
  {
   "cell_type": "code",
   "execution_count": 6,
   "id": "4d2f0e8f",
   "metadata": {},
   "outputs": [
    {
     "name": "stdout",
     "output_type": "stream",
     "text": [
      "Sorted nested list based on sublist lengths:\n",
      "[10]\n",
      "[4, 5]\n",
      "[1, 2, 3]\n",
      "[6, 7, 8, 9]\n",
      "[11, 12, 13, 14]\n"
     ]
    }
   ],
   "source": [
    "nested_list = [[1, 2, 3], [4, 5], [6, 7, 8, 9], [10], [11, 12, 13, 14]]\n",
    "\n",
    "sorted_nested_list = sorted(nested_list, key=len)\n",
    "\n",
    "print(\"Sorted nested list based on sublist lengths:\")\n",
    "for sublist in sorted_nested_list:\n",
    "    print(sublist)"
   ]
  }
 ],
 "metadata": {
  "kernelspec": {
   "display_name": "Python 3 (ipykernel)",
   "language": "python",
   "name": "python3"
  },
  "language_info": {
   "codemirror_mode": {
    "name": "ipython",
    "version": 3
   },
   "file_extension": ".py",
   "mimetype": "text/x-python",
   "name": "python",
   "nbconvert_exporter": "python",
   "pygments_lexer": "ipython3",
   "version": "3.9.13"
  }
 },
 "nbformat": 4,
 "nbformat_minor": 5
}
