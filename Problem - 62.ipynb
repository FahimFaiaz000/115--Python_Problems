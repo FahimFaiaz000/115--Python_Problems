{
 "cells": [
  {
   "cell_type": "markdown",
   "id": "d50e8986",
   "metadata": {},
   "source": [
    "# Given a nested list containing tuples of (x, y) coordinates, write a Python program to convert it into a list of x-coordinates and a list of y-coordinates."
   ]
  },
  {
   "cell_type": "code",
   "execution_count": 4,
   "id": "66445c59",
   "metadata": {},
   "outputs": [
    {
     "name": "stdout",
     "output_type": "stream",
     "text": [
      "x-coordinates: [1, 3, 5, 7]\n",
      "y-coordinates: [2, 4, 6, 8]\n"
     ]
    }
   ],
   "source": [
    "nested_list = [(1, 2), (3, 4), (5, 6), (7, 8)]\n",
    "\n",
    "x_coordinates = []\n",
    "y_coordinates = []\n",
    "\n",
    "for x, y in nested_list:\n",
    "    x_coordinates.append(x)\n",
    "    y_coordinates.append(y)\n",
    "\n",
    "print(\"x-coordinates:\", x_coordinates)\n",
    "print(\"y-coordinates:\", y_coordinates)"
   ]
  }
 ],
 "metadata": {
  "kernelspec": {
   "display_name": "Python 3 (ipykernel)",
   "language": "python",
   "name": "python3"
  },
  "language_info": {
   "codemirror_mode": {
    "name": "ipython",
    "version": 3
   },
   "file_extension": ".py",
   "mimetype": "text/x-python",
   "name": "python",
   "nbconvert_exporter": "python",
   "pygments_lexer": "ipython3",
   "version": "3.9.13"
  }
 },
 "nbformat": 4,
 "nbformat_minor": 5
}
