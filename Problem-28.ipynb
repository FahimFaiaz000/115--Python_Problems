{
 "cells": [
  {
   "cell_type": "markdown",
   "id": "888757b7",
   "metadata": {},
   "source": [
    "# Given a list of integers, write a Python program using a for loop to find the sum, average, maximum, and minimum values in the list."
   ]
  },
  {
   "cell_type": "code",
   "execution_count": 1,
   "id": "06bd4994",
   "metadata": {},
   "outputs": [
    {
     "name": "stdout",
     "output_type": "stream",
     "text": [
      "Enter a list of integers separated by spaces: 6 8 4 9 2\n",
      "Sum of the numbers: 29\n",
      "Average of the numbers: 5.8\n",
      "Maximum value: 9\n",
      "Minimum value: 2\n"
     ]
    }
   ],
   "source": [
    "num_list = input(\"Enter a list of integers separated by spaces: \").split()\n",
    "num_list = [int(x) for x in num_list]\n",
    "\n",
    "sum_of_numbers = 0\n",
    "max_value = num_list[0]\n",
    "min_value = num_list[0]\n",
    "\n",
    "for num in num_list:\n",
    "    sum_of_numbers += num\n",
    "    if num > max_value:\n",
    "        max_value = num\n",
    "    if num < min_value:\n",
    "        min_value = num\n",
    "\n",
    "average = sum_of_numbers / len(num_list)\n",
    "\n",
    "print(f\"Sum of the numbers: {sum_of_numbers}\")\n",
    "print(f\"Average of the numbers: {average}\")\n",
    "print(f\"Maximum value: {max_value}\")\n",
    "print(f\"Minimum value: {min_value}\")"
   ]
  },
  {
   "cell_type": "code",
   "execution_count": null,
   "id": "fe0c8530",
   "metadata": {},
   "outputs": [],
   "source": []
  }
 ],
 "metadata": {
  "kernelspec": {
   "display_name": "Python 3 (ipykernel)",
   "language": "python",
   "name": "python3"
  },
  "language_info": {
   "codemirror_mode": {
    "name": "ipython",
    "version": 3
   },
   "file_extension": ".py",
   "mimetype": "text/x-python",
   "name": "python",
   "nbconvert_exporter": "python",
   "pygments_lexer": "ipython3",
   "version": "3.9.13"
  }
 },
 "nbformat": 4,
 "nbformat_minor": 5
}
