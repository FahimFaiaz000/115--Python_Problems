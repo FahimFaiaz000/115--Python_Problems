{
 "cells": [
  {
   "cell_type": "markdown",
   "id": "9e802e5a",
   "metadata": {},
   "source": [
    "# Fibonacci Sequence: Write a Python program using a for loop to generate the Fibonacci sequence up to a given limit N."
   ]
  },
  {
   "cell_type": "code",
   "execution_count": 2,
   "id": "509ffb5b",
   "metadata": {},
   "outputs": [
    {
     "name": "stdout",
     "output_type": "stream",
     "text": [
      "Enter number of elements : 5\n"
     ]
    },
    {
     "data": {
      "text/plain": [
       "[1, 1, 2, 3, 5]"
      ]
     },
     "execution_count": 2,
     "metadata": {},
     "output_type": "execute_result"
    }
   ],
   "source": [
    "fibonacci_ser = []\n",
    "number_of_fib_elements = int(input(\"Enter number of elements : \"))\n",
    "\n",
    "for iterator in range(number_of_fib_elements):\n",
    "    \n",
    "    if len(fibonacci_ser) == 0:\n",
    "        fibonacci_ser.append(1)\n",
    "    \n",
    "    elif len(fibonacci_ser) == 1:\n",
    "        fibonacci_ser.append(1)\n",
    "    \n",
    "    elif len(fibonacci_ser) >= 2 and len(fibonacci_ser) < number_of_fib_elements:\n",
    "        last_val = fibonacci_ser[-1]\n",
    "        second_last = fibonacci_ser[-2]\n",
    "        \n",
    "        next_value = second_last + last_val\n",
    "        fibonacci_ser.append(next_value)\n",
    "        \n",
    "fibonacci_ser"
   ]
  }
 ],
 "metadata": {
  "kernelspec": {
   "display_name": "Python 3 (ipykernel)",
   "language": "python",
   "name": "python3"
  },
  "language_info": {
   "codemirror_mode": {
    "name": "ipython",
    "version": 3
   },
   "file_extension": ".py",
   "mimetype": "text/x-python",
   "name": "python",
   "nbconvert_exporter": "python",
   "pygments_lexer": "ipython3",
   "version": "3.9.13"
  }
 },
 "nbformat": 4,
 "nbformat_minor": 5
}
