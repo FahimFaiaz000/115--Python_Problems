{
 "cells": [
  {
   "cell_type": "markdown",
   "id": "62b0b799",
   "metadata": {},
   "source": [
    "# Given a tuple with three elements (x, y, z), write a Python program to unpack the tuple and assign the values to three variables."
   ]
  },
  {
   "cell_type": "code",
   "execution_count": 1,
   "id": "050fb488",
   "metadata": {},
   "outputs": [
    {
     "name": "stdout",
     "output_type": "stream",
     "text": [
      "x =  5\n",
      "y =  6\n",
      "z =  7\n"
     ]
    }
   ],
   "source": [
    "given_tuple = (5, 6, 7)\n",
    "x, y, z = given_tuple\n",
    "\n",
    "print(\"x = \", x)\n",
    "print(\"y = \", y)\n",
    "print(\"z = \", z)"
   ]
  }
 ],
 "metadata": {
  "kernelspec": {
   "display_name": "Python 3 (ipykernel)",
   "language": "python",
   "name": "python3"
  },
  "language_info": {
   "codemirror_mode": {
    "name": "ipython",
    "version": 3
   },
   "file_extension": ".py",
   "mimetype": "text/x-python",
   "name": "python",
   "nbconvert_exporter": "python",
   "pygments_lexer": "ipython3",
   "version": "3.9.13"
  }
 },
 "nbformat": 4,
 "nbformat_minor": 5
}
