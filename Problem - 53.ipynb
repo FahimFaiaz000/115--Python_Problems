{
 "cells": [
  {
   "cell_type": "markdown",
   "id": "a2219f94",
   "metadata": {},
   "source": [
    "# Write a Python program to convert a tuple into a list."
   ]
  },
  {
   "cell_type": "code",
   "execution_count": 1,
   "id": "bf84e55b",
   "metadata": {},
   "outputs": [
    {
     "name": "stdout",
     "output_type": "stream",
     "text": [
      "<class 'list'>\n",
      "[1, 'apple', 2, 'banana', 3, 'apple', 4, 'cherry', 'apple']\n"
     ]
    }
   ],
   "source": [
    "my_tuple = (1, 'apple', 2, 'banana', 3, 'apple', 4, 'cherry', 'apple')\n",
    "my_list_of_tuple = list(my_tuple)\n",
    "print(type(my_list_of_tuple))\n",
    "print(my_list_of_tuple)"
   ]
  }
 ],
 "metadata": {
  "kernelspec": {
   "display_name": "Python 3 (ipykernel)",
   "language": "python",
   "name": "python3"
  },
  "language_info": {
   "codemirror_mode": {
    "name": "ipython",
    "version": 3
   },
   "file_extension": ".py",
   "mimetype": "text/x-python",
   "name": "python",
   "nbconvert_exporter": "python",
   "pygments_lexer": "ipython3",
   "version": "3.9.13"
  }
 },
 "nbformat": 4,
 "nbformat_minor": 5
}
