{
 "cells": [
  {
   "cell_type": "markdown",
   "id": "0d93d05b",
   "metadata": {},
   "source": [
    "# Write a Python program that takes a number as input and print whether it is positive, negative, or zero."
   ]
  },
  {
   "cell_type": "code",
   "execution_count": 4,
   "id": "68459128",
   "metadata": {},
   "outputs": [
    {
     "name": "stdout",
     "output_type": "stream",
     "text": [
      "Enter a number: -6.78\n",
      "The number is negative.\n"
     ]
    }
   ],
   "source": [
    "x = float(input(\"Enter a number: \"))\n",
    "if x > 0:\n",
    "    print(\"The number is positive.\")\n",
    "elif x < 0:\n",
    "    print(\"The number is negative.\")\n",
    "else:\n",
    "    print(\"The number is zero.\")"
   ]
  }
 ],
 "metadata": {
  "kernelspec": {
   "display_name": "Python 3 (ipykernel)",
   "language": "python",
   "name": "python3"
  },
  "language_info": {
   "codemirror_mode": {
    "name": "ipython",
    "version": 3
   },
   "file_extension": ".py",
   "mimetype": "text/x-python",
   "name": "python",
   "nbconvert_exporter": "python",
   "pygments_lexer": "ipython3",
   "version": "3.9.13"
  }
 },
 "nbformat": 4,
 "nbformat_minor": 5
}
