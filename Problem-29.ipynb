{
 "cells": [
  {
   "cell_type": "markdown",
   "id": "5853fcc0",
   "metadata": {},
   "source": [
    "# Write a Python program using a while loop to reverse a given string."
   ]
  },
  {
   "cell_type": "code",
   "execution_count": 2,
   "id": "8d229b44",
   "metadata": {},
   "outputs": [
    {
     "name": "stdout",
     "output_type": "stream",
     "text": [
      "Enter a string: Fahim\n",
      "Reversed string: mihaF\n"
     ]
    }
   ],
   "source": [
    "og_str = input(\"Enter a string: \")\n",
    "\n",
    "rev_str = \"\"\n",
    "\n",
    "index = len(og_str) - 1\n",
    "\n",
    "while index >= 0:\n",
    "    rev_str += og_str[index]\n",
    "    index -= 1\n",
    "\n",
    "print(\"Reversed string:\", rev_str)"
   ]
  }
 ],
 "metadata": {
  "kernelspec": {
   "display_name": "Python 3 (ipykernel)",
   "language": "python",
   "name": "python3"
  },
  "language_info": {
   "codemirror_mode": {
    "name": "ipython",
    "version": 3
   },
   "file_extension": ".py",
   "mimetype": "text/x-python",
   "name": "python",
   "nbconvert_exporter": "python",
   "pygments_lexer": "ipython3",
   "version": "3.9.13"
  }
 },
 "nbformat": 4,
 "nbformat_minor": 5
}
