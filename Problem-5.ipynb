{
 "cells": [
  {
   "cell_type": "markdown",
   "id": "1601c2c5",
   "metadata": {},
   "source": [
    "# Write a Python program that converts a temperature in Celsius to Fahrenheit. Take the Celsius temperature as input from the user."
   ]
  },
  {
   "cell_type": "code",
   "execution_count": 2,
   "id": "3fa7b581",
   "metadata": {},
   "outputs": [
    {
     "name": "stdout",
     "output_type": "stream",
     "text": [
      "Enter temperature in Celsius: 35\n",
      "The temperature in Fahrenheit is  95.0\n"
     ]
    }
   ],
   "source": [
    "cel = float(input(\"Enter temperature in Celsius: \"))\n",
    "fah = (cel * 9/5) + 32\n",
    "print(f\"The temperature in Fahrenheit is \",fah)"
   ]
  },
  {
   "cell_type": "code",
   "execution_count": null,
   "id": "0eb0313f",
   "metadata": {},
   "outputs": [],
   "source": []
  }
 ],
 "metadata": {
  "kernelspec": {
   "display_name": "Python 3 (ipykernel)",
   "language": "python",
   "name": "python3"
  },
  "language_info": {
   "codemirror_mode": {
    "name": "ipython",
    "version": 3
   },
   "file_extension": ".py",
   "mimetype": "text/x-python",
   "name": "python",
   "nbconvert_exporter": "python",
   "pygments_lexer": "ipython3",
   "version": "3.9.13"
  }
 },
 "nbformat": 4,
 "nbformat_minor": 5
}
