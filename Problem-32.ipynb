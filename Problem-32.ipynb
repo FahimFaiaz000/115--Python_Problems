{
 "cells": [
  {
   "cell_type": "markdown",
   "id": "705a30bd",
   "metadata": {},
   "source": [
    "# Write a Python program using nested loops to multiply two matrices."
   ]
  },
  {
   "cell_type": "code",
   "execution_count": 14,
   "id": "093544f1",
   "metadata": {},
   "outputs": [
    {
     "name": "stdout",
     "output_type": "stream",
     "text": [
      "[[19, 22], [43, 50]]\n"
     ]
    }
   ],
   "source": [
    "def mul_matrices(x, y):\n",
    "  \n",
    "  z = [[0 for _ in range(len(y[0]))] for _ in range(len(x))]\n",
    "\n",
    "  for i in range(len(x)):\n",
    "    for j in range(len(y[0])):\n",
    "      for k in range(len(y)):\n",
    "        z[i][j] += x[i][k] * y[k][j]\n",
    "\n",
    "  return z\n",
    "\n",
    "x = [[1, 2], [3, 4]]\n",
    "y = [[5, 6], [7, 8]]\n",
    "z = mul_matrices(x, y)\n",
    "print(z)"
   ]
  }
 ],
 "metadata": {
  "kernelspec": {
   "display_name": "Python 3 (ipykernel)",
   "language": "python",
   "name": "python3"
  },
  "language_info": {
   "codemirror_mode": {
    "name": "ipython",
    "version": 3
   },
   "file_extension": ".py",
   "mimetype": "text/x-python",
   "name": "python",
   "nbconvert_exporter": "python",
   "pygments_lexer": "ipython3",
   "version": "3.9.13"
  }
 },
 "nbformat": 4,
 "nbformat_minor": 5
}
