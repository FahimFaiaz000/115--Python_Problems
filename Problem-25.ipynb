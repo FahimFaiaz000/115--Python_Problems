{
 "cells": [
  {
   "cell_type": "markdown",
   "id": "6b193ba3",
   "metadata": {},
   "source": [
    "# Sum of Even Numbers: Write a Python program using a while loop to calculate the sum of all even numbers between 1 and N, where N is taken as input from the user."
   ]
  },
  {
   "cell_type": "code",
   "execution_count": 9,
   "id": "54c468b8",
   "metadata": {},
   "outputs": [
    {
     "name": "stdout",
     "output_type": "stream",
     "text": [
      "Enter a positive integer: 50\n",
      "The sum of even numbers between 1 and 50 is: 650\n"
     ]
    }
   ],
   "source": [
    "num = int(input(\"Enter a positive integer: \"))\n",
    "\n",
    "sum_of_even_numbers = 0\n",
    "\n",
    "if num <= 0:\n",
    "    print(\"Please enter a positive integer.\")\n",
    "else:\n",
    "    i = 2 \n",
    "    while i <= num:\n",
    "        sum_of_even_numbers += i\n",
    "        i = i + 2\n",
    "\n",
    "    print(f\"The sum of even numbers between 1 and {num} is: {sum_of_even_numbers}\")"
   ]
  }
 ],
 "metadata": {
  "kernelspec": {
   "display_name": "Python 3 (ipykernel)",
   "language": "python",
   "name": "python3"
  },
  "language_info": {
   "codemirror_mode": {
    "name": "ipython",
    "version": 3
   },
   "file_extension": ".py",
   "mimetype": "text/x-python",
   "name": "python",
   "nbconvert_exporter": "python",
   "pygments_lexer": "ipython3",
   "version": "3.9.13"
  }
 },
 "nbformat": 4,
 "nbformat_minor": 5
}
