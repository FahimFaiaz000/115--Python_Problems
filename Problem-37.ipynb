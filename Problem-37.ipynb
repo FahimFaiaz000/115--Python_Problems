{
 "cells": [
  {
   "cell_type": "markdown",
   "id": "1b4c5719",
   "metadata": {},
   "source": [
    "# Write a Python program to sort a list of integers in ascending order."
   ]
  },
  {
   "cell_type": "code",
   "execution_count": 1,
   "id": "f8d81d81",
   "metadata": {},
   "outputs": [
    {
     "name": "stdout",
     "output_type": "stream",
     "text": [
      "Enter a list of integers: 5 4 3 7 2\n",
      "Sorted list in ascending order: [2, 3, 4, 5, 7]\n"
     ]
    }
   ],
   "source": [
    "input_str = input(\"Enter a list of integers: \")\n",
    "input_list = [int(x) for x in input_str.split()]\n",
    "input_list.sort()\n",
    "print(\"Sorted list in ascending order:\", input_list)"
   ]
  }
 ],
 "metadata": {
  "kernelspec": {
   "display_name": "Python 3 (ipykernel)",
   "language": "python",
   "name": "python3"
  },
  "language_info": {
   "codemirror_mode": {
    "name": "ipython",
    "version": 3
   },
   "file_extension": ".py",
   "mimetype": "text/x-python",
   "name": "python",
   "nbconvert_exporter": "python",
   "pygments_lexer": "ipython3",
   "version": "3.9.13"
  }
 },
 "nbformat": 4,
 "nbformat_minor": 5
}
