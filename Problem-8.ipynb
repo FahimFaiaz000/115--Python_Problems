{
 "cells": [
  {
   "cell_type": "markdown",
   "id": "8f75e274",
   "metadata": {},
   "source": [
    "# Write a Python function to reverse a given string using slicing."
   ]
  },
  {
   "cell_type": "code",
   "execution_count": 1,
   "id": "f0ce8ac8",
   "metadata": {},
   "outputs": [
    {
     "name": "stdout",
     "output_type": "stream",
     "text": [
      "Enter a string: zaiaf yeh\n",
      "Reversed string: hey faiaz\n"
     ]
    }
   ],
   "source": [
    "def reverse_string():\n",
    "    strg = input(\"Enter a string: \")\n",
    "    rev_strg = strg[::-1]\n",
    "    print(\"Reversed string:\", rev_strg)\n",
    "reverse_string()"
   ]
  },
  {
   "cell_type": "code",
   "execution_count": null,
   "id": "b8ef573d",
   "metadata": {},
   "outputs": [],
   "source": []
  }
 ],
 "metadata": {
  "kernelspec": {
   "display_name": "Python 3 (ipykernel)",
   "language": "python",
   "name": "python3"
  },
  "language_info": {
   "codemirror_mode": {
    "name": "ipython",
    "version": 3
   },
   "file_extension": ".py",
   "mimetype": "text/x-python",
   "name": "python",
   "nbconvert_exporter": "python",
   "pygments_lexer": "ipython3",
   "version": "3.9.13"
  }
 },
 "nbformat": 4,
 "nbformat_minor": 5
}
