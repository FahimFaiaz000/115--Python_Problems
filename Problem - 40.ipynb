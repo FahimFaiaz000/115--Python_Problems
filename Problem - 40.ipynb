{
 "cells": [
  {
   "cell_type": "markdown",
   "id": "488df067",
   "metadata": {},
   "source": [
    "# Given two lists of integers, write a Python program to create a new list that contains elements common to both lists."
   ]
  },
  {
   "cell_type": "code",
   "execution_count": 1,
   "id": "6a5aa8f0",
   "metadata": {},
   "outputs": [
    {
     "name": "stdout",
     "output_type": "stream",
     "text": [
      "Enter the first list of integers: 1 2 3 4 5\n",
      "Enter the second list of integers: 3 5 2 7 9\n",
      "Common elements between the two lists: [2, 3, 5]\n"
     ]
    }
   ],
   "source": [
    "list1 = input(\"Enter the first list of integers: \").split()\n",
    "list2 = input(\"Enter the second list of integers: \").split()\n",
    "\n",
    "list1 = [int(x) for x in list1]\n",
    "list2 = [int(x) for x in list2]\n",
    "\n",
    "common = []\n",
    "\n",
    "for num in list1:\n",
    "    if num in list2:\n",
    "        common.append(num)\n",
    "\n",
    "print(\"Common elements between the two lists:\", common)"
   ]
  }
 ],
 "metadata": {
  "kernelspec": {
   "display_name": "Python 3 (ipykernel)",
   "language": "python",
   "name": "python3"
  },
  "language_info": {
   "codemirror_mode": {
    "name": "ipython",
    "version": 3
   },
   "file_extension": ".py",
   "mimetype": "text/x-python",
   "name": "python",
   "nbconvert_exporter": "python",
   "pygments_lexer": "ipython3",
   "version": "3.9.13"
  }
 },
 "nbformat": 4,
 "nbformat_minor": 5
}
