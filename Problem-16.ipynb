{
 "cells": [
  {
   "cell_type": "markdown",
   "id": "60ae33c3",
   "metadata": {},
   "source": [
    "# Write a Python program that takes the time in hours (24-hour format) as input and prints “Good Morning”, “Good Afternoon”, “Good Evening”, or “Good Night” based on the time."
   ]
  },
  {
   "cell_type": "code",
   "execution_count": 9,
   "id": "7e79c6bd",
   "metadata": {},
   "outputs": [
    {
     "name": "stdout",
     "output_type": "stream",
     "text": [
      "Enter the time (1-24): 20\n",
      "Good Evening.\n"
     ]
    }
   ],
   "source": [
    "time = int(input(\"Enter the time (1-24): \"))\n",
    "if (time>=6 and time<12):\n",
    "    print(\"Good Morning.\")\n",
    "elif (time>=12 and time<18):\n",
    "    print(\"Good Afternoon.\")\n",
    "elif (time>=18 and time<23):\n",
    "    print(\"Good Evening.\")\n",
    "else:\n",
    "    print(\"Good Night.\")"
   ]
  }
 ],
 "metadata": {
  "kernelspec": {
   "display_name": "Python 3 (ipykernel)",
   "language": "python",
   "name": "python3"
  },
  "language_info": {
   "codemirror_mode": {
    "name": "ipython",
    "version": 3
   },
   "file_extension": ".py",
   "mimetype": "text/x-python",
   "name": "python",
   "nbconvert_exporter": "python",
   "pygments_lexer": "ipython3",
   "version": "3.9.13"
  }
 },
 "nbformat": 4,
 "nbformat_minor": 5
}
