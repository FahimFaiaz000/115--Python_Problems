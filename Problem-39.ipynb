{
 "cells": [
  {
   "cell_type": "markdown",
   "id": "ae392aec",
   "metadata": {},
   "source": [
    "# Write a Python program to reverse a given list without using any built-in functions."
   ]
  },
  {
   "cell_type": "code",
   "execution_count": 1,
   "id": "eeb497e0",
   "metadata": {},
   "outputs": [
    {
     "name": "stdout",
     "output_type": "stream",
     "text": [
      "Enter a list of elements separated by spaces: 4 5 3 6 7 8\n",
      "Reversed list: ['8', '7', '6', '3', '5', '4']\n"
     ]
    }
   ],
   "source": [
    "elements = input(\"Enter a list of elements separated by spaces: \").split()\n",
    "original_list = list(elements)\n",
    "reversed_list = []\n",
    "for i in range(len(original_list) - 1, -1, -1):\n",
    "    reversed_list.append(original_list[i])\n",
    "\n",
    "print(\"Reversed list:\", reversed_list)"
   ]
  }
 ],
 "metadata": {
  "kernelspec": {
   "display_name": "Python 3 (ipykernel)",
   "language": "python",
   "name": "python3"
  },
  "language_info": {
   "codemirror_mode": {
    "name": "ipython",
    "version": 3
   },
   "file_extension": ".py",
   "mimetype": "text/x-python",
   "name": "python",
   "nbconvert_exporter": "python",
   "pygments_lexer": "ipython3",
   "version": "3.9.13"
  }
 },
 "nbformat": 4,
 "nbformat_minor": 5
}
