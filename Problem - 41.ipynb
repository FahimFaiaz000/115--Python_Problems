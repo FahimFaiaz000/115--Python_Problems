{
 "cells": [
  {
   "cell_type": "markdown",
   "id": "940ecbe8",
   "metadata": {},
   "source": [
    "# Write a Python program to count the occurrences of a specific element in a given list."
   ]
  },
  {
   "cell_type": "code",
   "execution_count": 4,
   "id": "eacc6258",
   "metadata": {},
   "outputs": [
    {
     "name": "stdout",
     "output_type": "stream",
     "text": [
      "Enter a list of elements: Hey Faiaz & Hey Fahim\n",
      "Enter the element to count: Hey\n",
      "The element Hey occurs 2 times in the list.\n"
     ]
    }
   ],
   "source": [
    "elements = input(\"Enter a list of elements: \").split()\n",
    "element_to_count = input(\"Enter the element to count: \")\n",
    "element_list = list(elements)\n",
    "count = 0\n",
    "for element in element_list:\n",
    "    if element == element_to_count:\n",
    "        count += 1\n",
    "\n",
    "print(\"The element\" ,element_to_count, \"occurs\" ,count, \"times in the list.\")"
   ]
  }
 ],
 "metadata": {
  "kernelspec": {
   "display_name": "Python 3 (ipykernel)",
   "language": "python",
   "name": "python3"
  },
  "language_info": {
   "codemirror_mode": {
    "name": "ipython",
    "version": 3
   },
   "file_extension": ".py",
   "mimetype": "text/x-python",
   "name": "python",
   "nbconvert_exporter": "python",
   "pygments_lexer": "ipython3",
   "version": "3.9.13"
  }
 },
 "nbformat": 4,
 "nbformat_minor": 5
}
