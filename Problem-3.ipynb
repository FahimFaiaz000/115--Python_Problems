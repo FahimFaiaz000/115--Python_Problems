{
 "cells": [
  {
   "cell_type": "markdown",
   "id": "78b04bcc",
   "metadata": {},
   "source": [
    "# Write a Python function to reverse a given string and return the reversed string."
   ]
  },
  {
   "cell_type": "code",
   "execution_count": 1,
   "id": "d6d053d6",
   "metadata": {},
   "outputs": [
    {
     "name": "stdout",
     "output_type": "stream",
     "text": [
      "faiaz\n"
     ]
    },
    {
     "data": {
      "text/plain": [
       "'zaiaf'"
      ]
     },
     "execution_count": 1,
     "metadata": {},
     "output_type": "execute_result"
    }
   ],
   "source": [
    "def reverse_str():\n",
    "    string = input()\n",
    "    reversed_str = list(reversed(string))\n",
    "    return \"\".join(reversed_str)\n",
    "reverse_str()"
   ]
  }
 ],
 "metadata": {
  "kernelspec": {
   "display_name": "Python 3 (ipykernel)",
   "language": "python",
   "name": "python3"
  },
  "language_info": {
   "codemirror_mode": {
    "name": "ipython",
    "version": 3
   },
   "file_extension": ".py",
   "mimetype": "text/x-python",
   "name": "python",
   "nbconvert_exporter": "python",
   "pygments_lexer": "ipython3",
   "version": "3.9.13"
  }
 },
 "nbformat": 4,
 "nbformat_minor": 5
}
