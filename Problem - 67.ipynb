{
 "cells": [
  {
   "cell_type": "markdown",
   "id": "14ac4840",
   "metadata": {},
   "source": [
    "# Given a square matrix represented as a nested list, write a Python program to calculate the sum of the elements in the main diagonal."
   ]
  },
  {
   "cell_type": "code",
   "execution_count": 2,
   "id": "bb543286",
   "metadata": {},
   "outputs": [
    {
     "name": "stdout",
     "output_type": "stream",
     "text": [
      "Sum of the elements in the main diagonal: 54\n"
     ]
    }
   ],
   "source": [
    "matrix = [\n",
    "    [1, 2, 3],\n",
    "    [10, 11, 12],\n",
    "    [40, 41, 42]\n",
    "]\n",
    "\n",
    "main_diagonal_sum = sum(matrix[i][i] for i in range(len(matrix)))\n",
    "\n",
    "print(\"Sum of the elements in the main diagonal:\", main_diagonal_sum)"
   ]
  }
 ],
 "metadata": {
  "kernelspec": {
   "display_name": "Python 3 (ipykernel)",
   "language": "python",
   "name": "python3"
  },
  "language_info": {
   "codemirror_mode": {
    "name": "ipython",
    "version": 3
   },
   "file_extension": ".py",
   "mimetype": "text/x-python",
   "name": "python",
   "nbconvert_exporter": "python",
   "pygments_lexer": "ipython3",
   "version": "3.9.13"
  }
 },
 "nbformat": 4,
 "nbformat_minor": 5
}
