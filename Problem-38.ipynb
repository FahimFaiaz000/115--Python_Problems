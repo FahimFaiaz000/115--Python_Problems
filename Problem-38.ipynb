{
 "cells": [
  {
   "cell_type": "markdown",
   "id": "48db746f",
   "metadata": {},
   "source": [
    "# Given a list of integers, write a Python program to create a new list that contains only the even numbers from the original list."
   ]
  },
  {
   "cell_type": "code",
   "execution_count": 3,
   "id": "5f20ad7f",
   "metadata": {},
   "outputs": [
    {
     "name": "stdout",
     "output_type": "stream",
     "text": [
      "Enter a list of integers: 5 6 4 7 3 \n",
      "Even numbers from the original list: [6, 4]\n"
     ]
    }
   ],
   "source": [
    "nlist = input(\"Enter a list of integers: \").split()\n",
    "nlist = [int(x) for x in nlist]\n",
    "even = []\n",
    "for num in nlist:\n",
    "    if num % 2 == 0:\n",
    "        even.append(num)\n",
    "\n",
    "print(\"Even numbers from the original list:\", even)"
   ]
  }
 ],
 "metadata": {
  "kernelspec": {
   "display_name": "Python 3 (ipykernel)",
   "language": "python",
   "name": "python3"
  },
  "language_info": {
   "codemirror_mode": {
    "name": "ipython",
    "version": 3
   },
   "file_extension": ".py",
   "mimetype": "text/x-python",
   "name": "python",
   "nbconvert_exporter": "python",
   "pygments_lexer": "ipython3",
   "version": "3.9.13"
  }
 },
 "nbformat": 4,
 "nbformat_minor": 5
}
