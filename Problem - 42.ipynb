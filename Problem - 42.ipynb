{
 "cells": [
  {
   "cell_type": "markdown",
   "id": "3ce1c8e5",
   "metadata": {},
   "source": [
    "# Write a Python program to remove duplicates from a given list while preserving the order of the elements."
   ]
  },
  {
   "cell_type": "code",
   "execution_count": 3,
   "id": "df5bff24",
   "metadata": {},
   "outputs": [
    {
     "name": "stdout",
     "output_type": "stream",
     "text": [
      "Enter a list of elements separated by spaces: 3 4 4 5 6 8 3 8 5 0 2\n",
      "List with duplicates removed and order preserved: ['3', '4', '5', '6', '8', '0', '2']\n"
     ]
    }
   ],
   "source": [
    "elements = input(\"Enter a list of elements separated by spaces: \").split()\n",
    "element_list = list(elements)\n",
    "unique_list = []\n",
    "\n",
    "for element in element_list:\n",
    "    if element not in unique_list:\n",
    "        unique_list.append(element)\n",
    "\n",
    "print(\"List with duplicates removed and order preserved:\", unique_list)"
   ]
  }
 ],
 "metadata": {
  "kernelspec": {
   "display_name": "Python 3 (ipykernel)",
   "language": "python",
   "name": "python3"
  },
  "language_info": {
   "codemirror_mode": {
    "name": "ipython",
    "version": 3
   },
   "file_extension": ".py",
   "mimetype": "text/x-python",
   "name": "python",
   "nbconvert_exporter": "python",
   "pygments_lexer": "ipython3",
   "version": "3.9.13"
  }
 },
 "nbformat": 4,
 "nbformat_minor": 5
}
