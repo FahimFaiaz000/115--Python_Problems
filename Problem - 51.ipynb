{
 "cells": [
  {
   "cell_type": "markdown",
   "id": "47f9d5bf",
   "metadata": {},
   "source": [
    "# Write a Python program to sort a tuple of integers in ascending order."
   ]
  },
  {
   "cell_type": "code",
   "execution_count": 1,
   "id": "8ff7889f",
   "metadata": {},
   "outputs": [
    {
     "data": {
      "text/plain": [
       "(-2, 5, 10, 30, 70)"
      ]
     },
     "execution_count": 1,
     "metadata": {},
     "output_type": "execute_result"
    }
   ],
   "source": [
    "given_tuple = (10, 30, 5, -2, 70)\n",
    "sorted_tuple = tuple(sorted(given_tuple))\n",
    "sorted_tuple"
   ]
  }
 ],
 "metadata": {
  "kernelspec": {
   "display_name": "Python 3 (ipykernel)",
   "language": "python",
   "name": "python3"
  },
  "language_info": {
   "codemirror_mode": {
    "name": "ipython",
    "version": 3
   },
   "file_extension": ".py",
   "mimetype": "text/x-python",
   "name": "python",
   "nbconvert_exporter": "python",
   "pygments_lexer": "ipython3",
   "version": "3.9.13"
  }
 },
 "nbformat": 4,
 "nbformat_minor": 5
}
