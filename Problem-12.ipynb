{
 "cells": [
  {
   "cell_type": "markdown",
   "id": "947e59c5",
   "metadata": {},
   "source": [
    "# Write a Python program that takes three numbers as input and prints the largest among them."
   ]
  },
  {
   "cell_type": "code",
   "execution_count": 3,
   "id": "30eefa94",
   "metadata": {},
   "outputs": [
    {
     "name": "stdout",
     "output_type": "stream",
     "text": [
      "Enter the first number: 13\n",
      "Enter the second number: 18\n",
      "Enter the third number: 15\n",
      "The largest number is  18.0\n"
     ]
    }
   ],
   "source": [
    "x = float(input(\"Enter the first number: \"))\n",
    "y = float(input(\"Enter the second number: \"))\n",
    "z = float(input(\"Enter the third number: \"))\n",
    "if x >= y and x >= z:\n",
    "    lg = x\n",
    "    print(\"The largest number is \",x)\n",
    "elif y >= x and y >= z:\n",
    "    lg = y\n",
    "    print(\"The largest number is \",y)\n",
    "else:\n",
    "    lg = z\n",
    "    print(\"The largest number is \",z)\n"
   ]
  },
  {
   "cell_type": "code",
   "execution_count": null,
   "id": "7febab89",
   "metadata": {},
   "outputs": [],
   "source": []
  }
 ],
 "metadata": {
  "kernelspec": {
   "display_name": "Python 3 (ipykernel)",
   "language": "python",
   "name": "python3"
  },
  "language_info": {
   "codemirror_mode": {
    "name": "ipython",
    "version": 3
   },
   "file_extension": ".py",
   "mimetype": "text/x-python",
   "name": "python",
   "nbconvert_exporter": "python",
   "pygments_lexer": "ipython3",
   "version": "3.9.13"
  }
 },
 "nbformat": 4,
 "nbformat_minor": 5
}
