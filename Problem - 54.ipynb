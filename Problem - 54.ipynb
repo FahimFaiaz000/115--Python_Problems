{
 "cells": [
  {
   "cell_type": "markdown",
   "id": "4e48d977",
   "metadata": {},
   "source": [
    "# Write a Python program to reverse a tuple without using any built-in functions."
   ]
  },
  {
   "cell_type": "code",
   "execution_count": 1,
   "id": "4543a245",
   "metadata": {},
   "outputs": [
    {
     "name": "stdout",
     "output_type": "stream",
     "text": [
      "Reversed tuple: (5, 4, 3, 2, 1)\n"
     ]
    }
   ],
   "source": [
    "my_tuple = (1, 2, 3, 4, 5)\n",
    "tuple_list = list(my_tuple)\n",
    "reversed_list = []\n",
    "for item in tuple_list[::-1]:\n",
    "    reversed_list.append(item)\n",
    "\n",
    "reversed_tuple = tuple(reversed_list)\n",
    "print(\"Reversed tuple:\", reversed_tuple)"
   ]
  }
 ],
 "metadata": {
  "kernelspec": {
   "display_name": "Python 3 (ipykernel)",
   "language": "python",
   "name": "python3"
  },
  "language_info": {
   "codemirror_mode": {
    "name": "ipython",
    "version": 3
   },
   "file_extension": ".py",
   "mimetype": "text/x-python",
   "name": "python",
   "nbconvert_exporter": "python",
   "pygments_lexer": "ipython3",
   "version": "3.9.13"
  }
 },
 "nbformat": 4,
 "nbformat_minor": 5
}
