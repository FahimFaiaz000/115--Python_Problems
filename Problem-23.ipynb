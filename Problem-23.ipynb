{
 "cells": [
  {
   "cell_type": "markdown",
   "id": "884a5f36",
   "metadata": {},
   "source": [
    "# Write a Python program using a while loop to count the number of digits in a given integer N."
   ]
  },
  {
   "cell_type": "code",
   "execution_count": 3,
   "id": "4bd2e208",
   "metadata": {},
   "outputs": [
    {
     "name": "stdout",
     "output_type": "stream",
     "text": [
      "Enter an integer: 789795664\n",
      "The number of digits are: 9\n"
     ]
    }
   ],
   "source": [
    "num = int(input(\"Enter an integer: \"))\n",
    "count = 0\n",
    "if num < 0:\n",
    "    num = abs(num)\n",
    "    count += 1  \n",
    "    \n",
    "if num == 0:\n",
    "    count = 1\n",
    "\n",
    "while num > 0:\n",
    "    num //= 10\n",
    "    count += 1\n",
    "\n",
    "print(f\"The number of digits are: {count}\")"
   ]
  }
 ],
 "metadata": {
  "kernelspec": {
   "display_name": "Python 3 (ipykernel)",
   "language": "python",
   "name": "python3"
  },
  "language_info": {
   "codemirror_mode": {
    "name": "ipython",
    "version": 3
   },
   "file_extension": ".py",
   "mimetype": "text/x-python",
   "name": "python",
   "nbconvert_exporter": "python",
   "pygments_lexer": "ipython3",
   "version": "3.9.13"
  }
 },
 "nbformat": 4,
 "nbformat_minor": 5
}
