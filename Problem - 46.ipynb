{
 "cells": [
  {
   "cell_type": "markdown",
   "id": "b7b3f012",
   "metadata": {},
   "source": [
    "# Given a nested list containing lists of integers, write a Python program to count the frequency of each element in the entire nested list."
   ]
  },
  {
   "cell_type": "code",
   "execution_count": 1,
   "id": "a3831c56",
   "metadata": {},
   "outputs": [
    {
     "name": "stdout",
     "output_type": "stream",
     "text": [
      "Enter a nested list of integers: [[5, 5], [2, 3]]\n",
      "Element frequencies:\n",
      "5: 2\n",
      "2: 1\n",
      "3: 1\n"
     ]
    }
   ],
   "source": [
    "def count_element_frequencies(nested_list):\n",
    "    frequencies = {}\n",
    "\n",
    "    def count_elements(sub_list):\n",
    "        for item in sub_list:\n",
    "            if isinstance(item, list):\n",
    "                count_elements(item)\n",
    "            else:\n",
    "                if item in frequencies:\n",
    "                    frequencies[item] += 1\n",
    "                else:\n",
    "                    frequencies[item] = 1\n",
    "\n",
    "    count_elements(nested_list)\n",
    "    return frequencies\n",
    "\n",
    "nested_list = eval(input(\"Enter a nested list of integers: \"))\n",
    "\n",
    "element_frequencies = count_element_frequencies(nested_list)\n",
    "\n",
    "print(\"Element frequencies:\")\n",
    "for element, frequency in element_frequencies.items():\n",
    "    print(f\"{element}: {frequency}\")"
   ]
  }
 ],
 "metadata": {
  "kernelspec": {
   "display_name": "Python 3 (ipykernel)",
   "language": "python",
   "name": "python3"
  },
  "language_info": {
   "codemirror_mode": {
    "name": "ipython",
    "version": 3
   },
   "file_extension": ".py",
   "mimetype": "text/x-python",
   "name": "python",
   "nbconvert_exporter": "python",
   "pygments_lexer": "ipython3",
   "version": "3.9.13"
  }
 },
 "nbformat": 4,
 "nbformat_minor": 5
}
