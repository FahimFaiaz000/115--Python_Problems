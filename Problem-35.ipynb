{
 "cells": [
  {
   "cell_type": "markdown",
   "id": "956ed223",
   "metadata": {},
   "source": [
    "# Write a Python program to calculate the average of all elements in a given list of integers."
   ]
  },
  {
   "cell_type": "code",
   "execution_count": 4,
   "id": "f711b18c",
   "metadata": {},
   "outputs": [
    {
     "name": "stdout",
     "output_type": "stream",
     "text": [
      "Enter a list of integers separated by spaces: 4 5 6 7 3\n",
      "The sum of the elements in the list is: 25\n",
      "The average num is:  5.0\n"
     ]
    }
   ],
   "source": [
    "num_list = input(\"Enter a list of integers separated by spaces: \").split()\n",
    "num_list = [int(x) for x in num_list]\n",
    "\n",
    "sum_all = 0\n",
    "\n",
    "for num in num_list:\n",
    "    sum_all += num\n",
    "\n",
    "print(f\"The sum of the elements in the list is: {sum_all}\")\n",
    "\n",
    "avg = sum_all/len(num_list)\n",
    "\n",
    "print(\"The average num is: \",avg)"
   ]
  }
 ],
 "metadata": {
  "kernelspec": {
   "display_name": "Python 3 (ipykernel)",
   "language": "python",
   "name": "python3"
  },
  "language_info": {
   "codemirror_mode": {
    "name": "ipython",
    "version": 3
   },
   "file_extension": ".py",
   "mimetype": "text/x-python",
   "name": "python",
   "nbconvert_exporter": "python",
   "pygments_lexer": "ipython3",
   "version": "3.9.13"
  }
 },
 "nbformat": 4,
 "nbformat_minor": 5
}
