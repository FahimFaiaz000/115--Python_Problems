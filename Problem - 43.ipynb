{
 "cells": [
  {
   "cell_type": "markdown",
   "id": "e7c2d1f5",
   "metadata": {},
   "source": [
    "# Given a list of integers, write a Python program to create a new list that contains the squares of the elements using list comprehension."
   ]
  },
  {
   "cell_type": "code",
   "execution_count": 4,
   "id": "db3ee45f",
   "metadata": {},
   "outputs": [
    {
     "name": "stdout",
     "output_type": "stream",
     "text": [
      "Enter a list of integers separated by spaces: 1 2 3 4 5\n",
      "List of squared elements: [1, 4, 9, 16, 25]\n"
     ]
    }
   ],
   "source": [
    "num_list = input(\"Enter a list of integers separated by spaces: \").split()\n",
    "num_list = [int(x) for x in num_list]\n",
    "\n",
    "squared_list = [num ** 2 for num in num_list]\n",
    "\n",
    "print(\"List of squared elements:\", squared_list)"
   ]
  }
 ],
 "metadata": {
  "kernelspec": {
   "display_name": "Python 3 (ipykernel)",
   "language": "python",
   "name": "python3"
  },
  "language_info": {
   "codemirror_mode": {
    "name": "ipython",
    "version": 3
   },
   "file_extension": ".py",
   "mimetype": "text/x-python",
   "name": "python",
   "nbconvert_exporter": "python",
   "pygments_lexer": "ipython3",
   "version": "3.9.13"
  }
 },
 "nbformat": 4,
 "nbformat_minor": 5
}
