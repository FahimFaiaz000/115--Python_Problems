{
 "cells": [
  {
   "cell_type": "markdown",
   "id": "83aa4339",
   "metadata": {},
   "source": [
    "# Write a Python program that takes a student’s percentage as input and prints their corresponding grade "
   ]
  },
  {
   "cell_type": "code",
   "execution_count": 6,
   "id": "125e6130",
   "metadata": {},
   "outputs": [
    {
     "name": "stdout",
     "output_type": "stream",
     "text": [
      "Enter the mark: 83\n",
      "The student's grade is A\n"
     ]
    }
   ],
   "source": [
    "mark = float(input(\"Enter the mark: \"))\n",
    "if mark >= 90:\n",
    "    print(\"The student's grade is A+\")\n",
    "elif mark >= 80:\n",
    "    print(\"The student's grade is A\")\n",
    "elif mark >= 70:\n",
    "    print(\"The student's grade is B\")\n",
    "elif mark >= 60:\n",
    "    print(\"The student's grade is C\")\n",
    "else:\n",
    "    print(\"The student's grade is Fail\")"
   ]
  },
  {
   "cell_type": "code",
   "execution_count": null,
   "id": "a7711342",
   "metadata": {},
   "outputs": [],
   "source": []
  }
 ],
 "metadata": {
  "kernelspec": {
   "display_name": "Python 3 (ipykernel)",
   "language": "python",
   "name": "python3"
  },
  "language_info": {
   "codemirror_mode": {
    "name": "ipython",
    "version": 3
   },
   "file_extension": ".py",
   "mimetype": "text/x-python",
   "name": "python",
   "nbconvert_exporter": "python",
   "pygments_lexer": "ipython3",
   "version": "3.9.13"
  }
 },
 "nbformat": 4,
 "nbformat_minor": 5
}
